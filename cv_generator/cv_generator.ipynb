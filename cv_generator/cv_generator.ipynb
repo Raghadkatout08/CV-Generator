{
 "cells": [
  {
   "cell_type": "code",
   "execution_count": 13,
   "metadata": {},
   "outputs": [
    {
     "name": "stdout",
     "output_type": "stream",
     "text": [
      "==================================================================== \n",
      "      {Name}                                                                           \n",
      "                                                    \n",
      "      Phone Number: {phone_number}                   \n",
      "      Email: {email}                                 \n",
      "      City: {city}                                   \n",
      "                                                     \n",
      "             \n",
      "==[ Education ]=====================================================                                     \n",
      "                                                    \n",
      "      University Name:{university_name}  \n",
      "      Major in:{major}              \n",
      "      Graduation Date:{graduation_date}              \n",
      "                                                    \n",
      "                \n",
      "==[ Experience ]====================================================         \n",
      "                                                    \n",
      "      Company Name:{company_name}  \n",
      "      Job Title:{job_title}                   \n",
      "      Summary of your key responsibilities:          \n",
      "      {you responsibilities}                         \n",
      "                                                    \n",
      "               \n",
      "==[ Skills ]========================================================                                  \n",
      "                                                    \n",
      "      - {skill-01}                        \n",
      "      - {skill-02}                                     \n",
      "      - {skill-03}                                     \n",
      "      - {skill-04}                                     \n",
      "                                         \n",
      "                                                    \n",
      "==[ Languages ]=====================================================         \n",
      "                                                                                                                                      \n",
      "      Arabic:{Arabic_language_level}                       \n",
      "      English:{English_language_level}                      \n",
      "                                  ──────▄▀▄─────▄▀▄\n",
      "                                  ─────▄█░░▀▀▀▀▀░░█▄\n",
      "                                  ─▄▄──█░░░░░░░░░░░█──▄▄\n",
      "                                  █▄▄█─█░░▀░░┬░░▀░░█─█▄▄█  \n"
     ]
    }
   ],
   "source": [
    "with open('../assests/cv_template.txt', 'r') as file:\n",
    "    file_read = file.read()\n",
    "    print(file_read)"
   ]
  },
  {
   "cell_type": "code",
   "execution_count": 15,
   "metadata": {},
   "outputs": [
    {
     "name": "stdout",
     "output_type": "stream",
     "text": [
      "{'Name': '', 'phone_number': '', 'city': 'amman', 'university_name': 'WISE', 'major': 'SE', 'graduation_date': '2023', 'company_name': 'CISCO', 'job_title': 'Web Developer ', 'you_responsibilities': 'eee', 'skill-01': 'J', 'skill-02': 'JS', 'skill-03': 'PYTHON', 'skill-04': 'HTML', 'Arabic_language_level': 'native', 'English_language_level': 'very gooff'}\n"
     ]
    }
   ],
   "source": [
    "user_input = {}\n",
    "\n",
    "user_input['Name'] = input(\"Enter your name : \")\n",
    "user_input['phone_number'] = input(\"Enter your phone number : \")\n",
    "user_input['city'] = input(\"Enter your city : \")\n",
    "user_input['university_name'] = input(\"Enter your university name : \")\n",
    "user_input['major'] = input(\"Enter your university major : \")\n",
    "user_input['graduation_date'] = input(\"Enter your graduation date : \")\n",
    "user_input['company_name'] = input(\"Enter your company_name : \")\n",
    "user_input['job_title'] = input(\"Enter your job_title : \")\n",
    "user_input['you_responsibilities'] = input(\"Enter your you_responsibilities : \")\n",
    "user_input['skill-01'] = input(\"Enter your skill 1: \")\n",
    "user_input['skill-02'] = input(\"Enter your skill 2: \")\n",
    "user_input['skill-03'] = input(\"Enter your skill 3: \")\n",
    "user_input['skill-04'] = input(\"Enter your skill 4: \")\n",
    "user_input['Arabic_language_level'] = input(\"Enter your Arabic_language_level : \")\n",
    "user_input['English_language_level'] = input(\"Enter your English_language_level : \")\n",
    "\n",
    "print(user_input)\n",
    "\n"
   ]
  }
 ],
 "metadata": {
  "kernelspec": {
   "display_name": ".venv",
   "language": "python",
   "name": "python3"
  },
  "language_info": {
   "codemirror_mode": {
    "name": "ipython",
    "version": 3
   },
   "file_extension": ".py",
   "mimetype": "text/x-python",
   "name": "python",
   "nbconvert_exporter": "python",
   "pygments_lexer": "ipython3",
   "version": "3.12.3"
  }
 },
 "nbformat": 4,
 "nbformat_minor": 2
}
